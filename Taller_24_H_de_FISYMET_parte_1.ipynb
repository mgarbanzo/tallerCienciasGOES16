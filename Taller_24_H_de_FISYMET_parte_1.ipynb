{
  "nbformat": 4,
  "nbformat_minor": 0,
  "metadata": {
    "colab": {
      "name": "Taller 24 H de FISYMET - parte 1",
      "provenance": [],
      "collapsed_sections": [],
      "authorship_tag": "ABX9TyMAhqYucLPc9Imfnf+RvY7A",
      "include_colab_link": true
    },
    "kernelspec": {
      "name": "python3",
      "display_name": "Python 3"
    }
  },
  "cells": [
    {
      "cell_type": "markdown",
      "metadata": {
        "id": "view-in-github",
        "colab_type": "text"
      },
      "source": [
        "<a href=\"https://colab.research.google.com/github/mgarbanzo/tallerCienciasGOES16/blob/master/Taller_24_H_de_FISYMET_parte_1.ipynb\" target=\"_parent\"><img src=\"https://colab.research.google.com/assets/colab-badge.svg\" alt=\"Open In Colab\"/></a>"
      ]
    },
    {
      "cell_type": "markdown",
      "metadata": {
        "id": "3_1wv3rNWKjK"
      },
      "source": [
        "# ¿Que es Colab?\n",
        "\n",
        "Basicamente es una **máquina virtual** con GNU/Linux en la nube que corre un Notebook de Python (tipo Jupyter).\n",
        "\n",
        "¿Cómo puedo correr código de Linux?\n",
        "\n",
        "Se utiliza el signo de admiración **!** para correr código:"
      ]
    },
    {
      "cell_type": "code",
      "metadata": {
        "colab": {
          "base_uri": "https://localhost:8080/"
        },
        "id": "snblUgVkWUAu",
        "outputId": "fdb60248-6cc0-47e8-d4f8-a9ef1a60bba6"
      },
      "source": [
        "!uname -a"
      ],
      "execution_count": null,
      "outputs": [
        {
          "output_type": "stream",
          "text": [
            "Linux 3584b6cafc7d 4.19.112+ #1 SMP Thu Jul 23 08:00:38 PDT 2020 x86_64 x86_64 x86_64 GNU/Linux\n"
          ],
          "name": "stdout"
        }
      ]
    },
    {
      "cell_type": "code",
      "metadata": {
        "colab": {
          "base_uri": "https://localhost:8080/"
        },
        "id": "Tmq1O4rTWkyl",
        "outputId": "7c2367d0-c199-42e3-eeab-e61fbc86ef24"
      },
      "source": [
        "!echo $PATH"
      ],
      "execution_count": null,
      "outputs": [
        {
          "output_type": "stream",
          "text": [
            "/usr/local/nvidia/bin:/usr/local/cuda/bin:/usr/local/sbin:/usr/local/bin:/usr/sbin:/usr/bin:/sbin:/bin:/tools/node/bin:/tools/google-cloud-sdk/bin:/opt/bin\n"
          ],
          "name": "stdout"
        }
      ]
    },
    {
      "cell_type": "code",
      "metadata": {
        "colab": {
          "base_uri": "https://localhost:8080/"
        },
        "id": "Y6SxxpqVWo6v",
        "outputId": "8df4d868-cbcc-4053-e452-2128eb4b0789"
      },
      "source": [
        "!for x in {00..10}; do echo $x; done"
      ],
      "execution_count": null,
      "outputs": [
        {
          "output_type": "stream",
          "text": [
            "00\n",
            "01\n",
            "02\n",
            "03\n",
            "04\n",
            "05\n",
            "06\n",
            "07\n",
            "08\n",
            "09\n",
            "10\n"
          ],
          "name": "stdout"
        }
      ]
    },
    {
      "cell_type": "markdown",
      "metadata": {
        "id": "qUFF5mB7XUD6"
      },
      "source": [
        "# ¿Que significa eso?\n",
        "\n",
        "Eso significa que podemos hacer uso de [BASH](https://tldp.org/LDP/abs/html/) a la hora de trabajar en Colab.Research!!!"
      ]
    },
    {
      "cell_type": "markdown",
      "metadata": {
        "id": "eBaE2hR8YYkl"
      },
      "source": [
        ""
      ]
    },
    {
      "cell_type": "markdown",
      "metadata": {
        "id": "dWaKTC0WYcQy"
      },
      "source": [
        "# La finalidad principal es poder programar en Python\n",
        "\n",
        "Programar en Python en la nube es una de las metas de Colab. \"Todo\" lo que se hace en Python local se puede hacer en este sitio."
      ]
    },
    {
      "cell_type": "code",
      "metadata": {
        "id": "_fGo7nlsYbEq"
      },
      "source": [
        "import numpy as np\n",
        "import pylab as plt"
      ],
      "execution_count": null,
      "outputs": []
    },
    {
      "cell_type": "code",
      "metadata": {
        "id": "S3GjKmx-Yjoc"
      },
      "source": [
        "A = np.random.randint(0,10,(10,10))"
      ],
      "execution_count": null,
      "outputs": []
    },
    {
      "cell_type": "code",
      "metadata": {
        "colab": {
          "base_uri": "https://localhost:8080/",
          "height": 282
        },
        "id": "KAMAJOAfYo5o",
        "outputId": "9b22ba6b-5915-406f-a87f-cc48a7e1c221"
      },
      "source": [
        "plt.figure()\n",
        "plt.imshow(A)"
      ],
      "execution_count": null,
      "outputs": [
        {
          "output_type": "execute_result",
          "data": {
            "text/plain": [
              "<matplotlib.image.AxesImage at 0x7fa1097162b0>"
            ]
          },
          "metadata": {
            "tags": []
          },
          "execution_count": 15
        },
        {
          "output_type": "display_data",
          "data": {
            "image/png": "[encoded data removed]",
            "text/plain": [
              "<Figure size 432x288 with 1 Axes>"
            ]
          },
          "metadata": {
            "tags": [],
            "needs_background": "light"
          }
        }
      ]
    },
    {
      "cell_type": "code",
      "metadata": {
        "id": "dVn_0zwbYtt9"
      },
      "source": [
        ""
      ],
      "execution_count": null,
      "outputs": []
    }
  ]
}